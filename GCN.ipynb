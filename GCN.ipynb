{
 "cells": [
  {
   "cell_type": "code",
   "execution_count": 1,
   "metadata": {
    "execution": {
     "iopub.execute_input": "2024-03-29T10:36:24.621848Z",
     "iopub.status.busy": "2024-03-29T10:36:24.620885Z",
     "iopub.status.idle": "2024-03-29T10:36:24.623689Z",
     "shell.execute_reply": "2024-03-29T10:36:24.623134Z",
     "shell.execute_reply.started": "2024-03-29T08:59:23.657276Z"
    },
    "papermill": {
     "duration": 0.032794,
     "end_time": "2024-03-29T10:36:24.623826",
     "exception": false,
     "start_time": "2024-03-29T10:36:24.591032",
     "status": "completed"
    },
    "tags": []
   },
   "outputs": [],
   "source": [
    "def load_data(data_dir, start_ts, end_ts):\n",
    "\tclasses_csv = 'elliptic_txs_classes.csv'\n",
    "\tedgelist_csv = 'elliptic_txs_edgelist.csv'\n",
    "\tfeatures_csv = 'elliptic_txs_features.csv'\n",
    "\n",
    "\tclasses = pd.read_csv(os.path.join(data_dir, classes_csv), index_col = 'txId') # labels for the transactions i.e. 'unknown', '1', '2'\n",
    "\tedgelist = pd.read_csv(os.path.join(data_dir, edgelist_csv), index_col = 'txId1') # directed edges between transactions\n",
    "\tfeatures = pd.read_csv(os.path.join(data_dir, features_csv), header = None, index_col = 0) # features of the transactions\n",
    "\t\n",
    "\tnum_features = features.shape[1]\n",
    "\tnum_tx = features.shape[0]\t\n",
    "\ttotal_tx = list(classes.index)\n",
    "\n",
    "\t# select only the transactions which are labelled\n",
    "\tlabelled_classes = classes[classes['class'] != 'unknown']\n",
    "\tlabelled_tx = list(labelled_classes.index)\n",
    "\n",
    "\t# to calculate a list of adjacency matrices for the different timesteps\n",
    "\n",
    "\tadj_mats = []\n",
    "\tfeatures_labelled_ts = []\n",
    "\tclasses_ts = []\n",
    "\tnum_ts = 49 # number of timestamps from the paper\n",
    "\n",
    "\tfor ts in range(start_ts, end_ts):\n",
    "\t    features_ts = features[features[1] == ts+1]\n",
    "\t    tx_ts = list(features_ts.index)\n",
    "\t    \n",
    "\t    labelled_tx_ts = [tx for tx in tx_ts if tx in set(labelled_tx)]\n",
    "\t    \n",
    "\t    # adjacency matrix for all the transactions\n",
    "\t    # we will only fill in the transactions of this timestep which have labels and can be used for training\n",
    "\t    adj_mat = pd.DataFrame(np.zeros((num_tx, num_tx)), index = total_tx, columns = total_tx)\n",
    "\t    \n",
    "\t    edgelist_labelled_ts = edgelist.loc[edgelist.index.intersection(labelled_tx_ts).unique()]\n",
    "\t    for i in range(edgelist_labelled_ts.shape[0]):\n",
    "\t        adj_mat.loc[edgelist_labelled_ts.index[i], edgelist_labelled_ts.iloc[i]['txId2']] = 1\n",
    "\t    \n",
    "\t    adj_mat_ts = adj_mat.loc[labelled_tx_ts, labelled_tx_ts]\n",
    "\t    features_l_ts = features.loc[labelled_tx_ts]\n",
    "\t    \n",
    "\t    adj_mats.append(adj_mat_ts)\n",
    "\t    features_labelled_ts.append(features_l_ts)\n",
    "\t    classes_ts.append(classes.loc[labelled_tx_ts])\n",
    "\n",
    "\treturn adj_mats, features_labelled_ts, classes_ts"
   ]
  },
  {
   "cell_type": "code",
   "execution_count": 2,
   "metadata": {
    "execution": {
     "iopub.execute_input": "2024-03-29T10:36:24.651114Z",
     "iopub.status.busy": "2024-03-29T10:36:24.650497Z",
     "iopub.status.idle": "2024-03-29T10:43:23.313978Z",
     "shell.execute_reply": "2024-03-29T10:43:23.314528Z",
     "shell.execute_reply.started": "2024-03-29T08:59:23.676190Z"
    },
    "papermill": {
     "duration": 418.681718,
     "end_time": "2024-03-29T10:43:23.314735",
     "exception": false,
     "start_time": "2024-03-29T10:36:24.633017",
     "status": "completed"
    },
    "tags": []
   },
   "outputs": [],
   "source": [
    "import numpy as np\n",
    "import time\n",
    "import sys\n",
    "import pandas as pd\n",
    "import os\n",
    "dir = \"../input/elliptic-data-set/elliptic_bitcoin_dataset\"\n",
    "dataSet = load_data(dir, 0, 34)"
   ]
  },
  {
   "cell_type": "code",
   "execution_count": 3,
   "metadata": {
    "execution": {
     "iopub.execute_input": "2024-03-29T10:43:23.350222Z",
     "iopub.status.busy": "2024-03-29T10:43:23.349442Z",
     "iopub.status.idle": "2024-03-29T10:43:24.946712Z",
     "shell.execute_reply": "2024-03-29T10:43:24.946145Z",
     "shell.execute_reply.started": "2024-03-29T09:06:26.203419Z"
    },
    "papermill": {
     "duration": 1.622806,
     "end_time": "2024-03-29T10:43:24.946837",
     "exception": false,
     "start_time": "2024-03-29T10:43:23.324031",
     "status": "completed"
    },
    "tags": []
   },
   "outputs": [],
   "source": [
    "import torch\n",
    "import torch.nn as nn\n",
    "import torch.nn.functional as F\n",
    "\n",
    "import numpy as np\n",
    "import time\n",
    "import sys\n",
    "\n",
    "class GraphConv(nn.Module):\n",
    "    def __init__(self, in_features, out_features, activation  = 'relu', skip = False, skip_in_features = None):\n",
    "        super(GraphConv, self).__init__()\n",
    "        self.W = torch.nn.Parameter(torch.DoubleTensor(in_features, out_features))\n",
    "        nn.init.xavier_uniform_(self.W)\n",
    "        \n",
    "        self.set_act = False\n",
    "        if activation == 'relu':\n",
    "            self.activation = nn.ReLU()\n",
    "            self.set_act = True\n",
    "        elif activation == 'softmax':\n",
    "            self.activation = nn.Softmax(dim = 1)\n",
    "            self.set_act = True\n",
    "        else:\n",
    "            self.set_act = False\n",
    "            raise ValueError(\"activations supported are 'relu' and 'softmax'\")\n",
    "            \n",
    "        self.skip = skip\n",
    "        if self.skip:\n",
    "            if skip_in_features == None:\n",
    "                raise ValueError(\"pass input feature size of the skip connection\")\n",
    "            self.W_skip = torch.nn.Parameter(torch.DoubleTensor(skip_in_features, out_features)) \n",
    "            nn.init.xavier_uniform_(self.W)\n",
    "        \n",
    "    def forward(self, A, H_in, H_skip_in = None):\n",
    "        # A must be an n x n matrix as it is an adjacency matrix\n",
    "        # H is the input of the node embeddings, shape will n x in_features\n",
    "        self.A = A\n",
    "        self.H_in = H_in\n",
    "        A_ = torch.add(self.A, torch.eye(self.A.shape[0]).double())\n",
    "        D_ = torch.diag(A_.sum(1))\n",
    "        # since D_ is a diagonal matrix, \n",
    "        # its root will be the roots of the diagonal elements on the principle diagonal\n",
    "        # since A is an adjacency matrix, we are only dealing with positive values \n",
    "        # all roots will be real\n",
    "        D_root_inv = torch.inverse(torch.sqrt(D_))\n",
    "        A_norm = torch.mm(torch.mm(D_root_inv, A_), D_root_inv)\n",
    "        # shape of A_norm will be n x n\n",
    "        \n",
    "        H_out = torch.mm(torch.mm(A_norm, H_in), self.W)\n",
    "        # shape of H_out will be n x out_features\n",
    "        \n",
    "        if self.skip:\n",
    "            H_skip_out = torch.mm(H_skip_in, self.W_skip)\n",
    "            H_out = torch.add(H_out, H_skip_out)\n",
    "        \n",
    "        if self.set_act:\n",
    "            H_out = self.activation(H_out)\n",
    "            \n",
    "        return H_out"
   ]
  },
  {
   "cell_type": "code",
   "execution_count": 4,
   "metadata": {
    "execution": {
     "iopub.execute_input": "2024-03-29T10:43:24.975251Z",
     "iopub.status.busy": "2024-03-29T10:43:24.974302Z",
     "iopub.status.idle": "2024-03-29T10:43:24.977194Z",
     "shell.execute_reply": "2024-03-29T10:43:24.976663Z",
     "shell.execute_reply.started": "2024-03-29T09:06:27.992078Z"
    },
    "papermill": {
     "duration": 0.021348,
     "end_time": "2024-03-29T10:43:24.977300",
     "exception": false,
     "start_time": "2024-03-29T10:43:24.955952",
     "status": "completed"
    },
    "tags": []
   },
   "outputs": [],
   "source": [
    "class GCN_2layer(nn.Module):\n",
    "    def __init__(self, in_features, hidden_features, out_features, skip = False):\n",
    "        super(GCN_2layer, self).__init__()\n",
    "        self.skip = skip\n",
    "        \n",
    "        self.gcl1 = GraphConv(in_features, hidden_features)\n",
    "        \n",
    "        if self.skip:\n",
    "            self.gcl_skip = GraphConv(hidden_features, out_features, activation = 'softmax', skip = self.skip,\n",
    "                                  skip_in_features = in_features)\n",
    "        else:\n",
    "            self.gcl2 = GraphConv(hidden_features, out_features, activation = 'softmax')\n",
    "        \n",
    "    def forward(self, A, X):\n",
    "        out = self.gcl1(A, X)\n",
    "        if self.skip:\n",
    "            out = self.gcl_skip(A, out, X)\n",
    "        else:\n",
    "            out = self.gcl2(A, out)\n",
    "            \n",
    "        return out"
   ]
  },
  {
   "cell_type": "code",
   "execution_count": 5,
   "metadata": {
    "execution": {
     "iopub.execute_input": "2024-03-29T10:43:24.999073Z",
     "iopub.status.busy": "2024-03-29T10:43:24.998138Z",
     "iopub.status.idle": "2024-03-29T10:43:25.958053Z",
     "shell.execute_reply": "2024-03-29T10:43:25.957370Z",
     "shell.execute_reply.started": "2024-03-29T09:06:28.005372Z"
    },
    "papermill": {
     "duration": 0.97218,
     "end_time": "2024-03-29T10:43:25.958165",
     "exception": false,
     "start_time": "2024-03-29T10:43:24.985985",
     "status": "completed"
    },
    "tags": []
   },
   "outputs": [],
   "source": [
    "!mkdir modelDir"
   ]
  },
  {
   "cell_type": "code",
   "execution_count": null,
   "metadata": {
    "papermill": {
     "duration": 0.008522,
     "end_time": "2024-03-29T10:43:25.975651",
     "exception": false,
     "start_time": "2024-03-29T10:43:25.967129",
     "status": "completed"
    },
    "tags": []
   },
   "outputs": [],
   "source": []
  },
  {
   "cell_type": "markdown",
   "metadata": {
    "papermill": {
     "duration": 0.00841,
     "end_time": "2024-03-29T10:43:25.992817",
     "exception": false,
     "start_time": "2024-03-29T10:43:25.984407",
     "status": "completed"
    },
    "tags": []
   },
   "source": []
  },
  {
   "cell_type": "code",
   "execution_count": 6,
   "metadata": {
    "execution": {
     "iopub.execute_input": "2024-03-29T10:43:26.040117Z",
     "iopub.status.busy": "2024-03-29T10:43:26.034741Z",
     "iopub.status.idle": "2024-03-29T10:47:11.092704Z",
     "shell.execute_reply": "2024-03-29T10:47:11.091931Z",
     "shell.execute_reply.started": "2024-03-29T09:06:28.983934Z"
    },
    "papermill": {
     "duration": 225.091228,
     "end_time": "2024-03-29T10:47:11.092867",
     "exception": false,
     "start_time": "2024-03-29T10:43:26.001639",
     "status": "completed"
    },
    "tags": []
   },
   "outputs": [
    {
     "name": "stdout",
     "output_type": "stream",
     "text": [
      " Epoch 34/35 Timestamp 33/34 training loss: 0.359330 training accuracy: 0.978641 Time: 0.029665231704711914"
     ]
    }
   ],
   "source": [
    "num_features = 166\n",
    "num_classes = 2\n",
    "num_ts = 49\n",
    "epochs = 15\n",
    "lr = 0.001\n",
    "max_train_ts = 34\n",
    "train_ts = np.arange(max_train_ts)\n",
    "\n",
    "adj_mats, features_labelled_ts, classes_ts = dataSet\n",
    "\n",
    "# 0 - illicit, 1 - licit\n",
    "labels_ts = []\n",
    "for c in classes_ts:\n",
    "    labels_ts.append(np.array(c['class'] == '2', dtype = np.long))\n",
    "\n",
    "gcn = GCN_2layer(num_features, 100, num_classes)\n",
    "train_loss = nn.CrossEntropyLoss(weight = torch.DoubleTensor([0.7, 0.3]))\n",
    "optimizer = torch.optim.Adam(gcn.parameters(), lr = lr)\n",
    "\n",
    "# Training\n",
    "\n",
    "for ts in train_ts:\n",
    "    A = torch.tensor(adj_mats[ts].values)\n",
    "    X = torch.tensor(features_labelled_ts[ts].values)\n",
    "    L = torch.tensor(labels_ts[ts], dtype = torch.long)\n",
    "    for ep in range(epochs):\n",
    "        t_start = time.time()\n",
    "        \n",
    "        gcn.train()\n",
    "        optimizer.zero_grad()\n",
    "        out = gcn(A, X)\n",
    "\n",
    "        loss = train_loss(out, L)\n",
    "        train_pred = out.max(1)[1].type_as(L)\n",
    "        acc = (train_pred.eq(L).double().sum())/L.shape[0]\n",
    "\n",
    "        loss.backward()\n",
    "        optimizer.step()\n",
    "\n",
    "        sys.stdout.write(\"\\r Epoch %d/%d Timestamp %d/%d training loss: %f training accuracy: %f Time: %s\"\n",
    "                         %(ep, epochs, ts, max_train_ts, loss, acc, time.time() - t_start)\n",
    "                        )\n",
    "\n",
    "torch.save(gcn.state_dict(), str(os.path.join(\"./modelDir\", \"gcn_weights.pth\")))"
   ]
  },
  {
   "cell_type": "code",
   "execution_count": 7,
   "metadata": {
    "execution": {
     "iopub.execute_input": "2024-03-29T10:47:11.518990Z",
     "iopub.status.busy": "2024-03-29T10:47:11.518216Z",
     "iopub.status.idle": "2024-03-29T10:50:30.723186Z",
     "shell.execute_reply": "2024-03-29T10:50:30.723748Z",
     "shell.execute_reply.started": "2024-03-29T09:08:06.842100Z"
    },
    "papermill": {
     "duration": 199.430958,
     "end_time": "2024-03-29T10:50:30.723919",
     "exception": false,
     "start_time": "2024-03-29T10:47:11.292961",
     "status": "completed"
    },
    "tags": []
   },
   "outputs": [
    {
     "name": "stdout",
     "output_type": "stream",
     "text": [
      "GCN - averaged accuracy: 0.9577081254151997, precision: 0.9636891302544015, recall: 0.9920049276057049, f1: 0.9774033470526132\n"
     ]
    }
   ],
   "source": [
    "from sklearn.metrics import f1_score, precision_score, recall_score\n",
    "test_ts = np.arange(14)\n",
    "adj_mats, features_labelled_ts, classes_ts = load_data(dir, 35, 49)\n",
    "\n",
    "# 0 - illicit, 1 - licit\n",
    "labels_ts = []\n",
    "for c in classes_ts:\n",
    "    labels_ts.append(np.array(c['class'] == '2', dtype = np.long))\n",
    "\n",
    "gcn = GCN_2layer(num_features, 100, num_classes)\n",
    "gcn.load_state_dict(torch.load(os.path.join(\"./modelDir\", \"gcn_weights.pth\")))\n",
    "\n",
    "# Testing\n",
    "test_accs = []\n",
    "test_precisions = []\n",
    "test_recalls = []\n",
    "test_f1s = []\n",
    "\n",
    "for ts in test_ts:\n",
    "    A = torch.tensor(adj_mats[ts].values)\n",
    "    X = torch.tensor(features_labelled_ts[ts].values)\n",
    "    L = torch.tensor(labels_ts[ts], dtype = torch.long)\n",
    "    \n",
    "    gcn.eval()\n",
    "    test_out = gcn(A, X)\n",
    "    \n",
    "    test_pred = test_out.max(1)[1].type_as(L)\n",
    "    t_acc = (test_pred.eq(L).double().sum())/L.shape[0]\n",
    "    test_accs.append(t_acc.item())\n",
    "    test_precisions.append(precision_score(L, test_pred))\n",
    "    test_recalls.append(recall_score(L, test_pred))\n",
    "    test_f1s.append(f1_score(L, test_pred))\n",
    "\n",
    "acc = np.array(test_accs).mean()\n",
    "prec = np.array(test_precisions).mean()\n",
    "rec = np.array(test_recalls).mean()\n",
    "f1 = np.array(test_f1s).mean()\n",
    "\n",
    "print(\"GCN - averaged accuracy: {}, precision: {}, recall: {}, f1: {}\".format(acc, prec, rec, f1))"
   ]
  },
  {
   "cell_type": "code",
   "execution_count": null,
   "metadata": {
    "papermill": {
     "duration": 0.197461,
     "end_time": "2024-03-29T10:50:31.117883",
     "exception": false,
     "start_time": "2024-03-29T10:50:30.920422",
     "status": "completed"
    },
    "tags": []
   },
   "outputs": [],
   "source": []
  }
 ],
 "metadata": {
  "kaggle": {
   "accelerator": "nvidiaTeslaT4",
   "dataSources": [
    {
     "datasetId": 284040,
     "sourceId": 584717,
     "sourceType": "datasetVersion"
    }
   ],
   "dockerImageVersionId": 30042,
   "isGpuEnabled": true,
   "isInternetEnabled": true,
   "language": "python",
   "sourceType": "notebook"
  },
  "kernelspec": {
   "display_name": "Python 3",
   "language": "python",
   "name": "python3"
  },
  "language_info": {
   "codemirror_mode": {
    "name": "ipython",
    "version": 3
   },
   "file_extension": ".py",
   "mimetype": "text/x-python",
   "name": "python",
   "nbconvert_exporter": "python",
   "pygments_lexer": "ipython3",
   "version": "3.7.6"
  },
  "papermill": {
   "duration": 852.015525,
   "end_time": "2024-03-29T10:50:32.323579",
   "environment_variables": {},
   "exception": null,
   "input_path": "__notebook__.ipynb",
   "output_path": "__notebook__.ipynb",
   "parameters": {},
   "start_time": "2024-03-29T10:36:20.308054",
   "version": "2.1.0"
  }
 },
 "nbformat": 4,
 "nbformat_minor": 4
}
